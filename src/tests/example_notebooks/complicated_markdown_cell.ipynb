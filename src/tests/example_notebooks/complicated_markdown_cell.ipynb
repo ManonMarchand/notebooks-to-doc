{
 "cells": [
  {
   "attachments": {},
   "cell_type": "markdown",
   "metadata": {},
   "source": [
    "# Title\n",
    "\n",
    "## 1\n",
    "\n",
    "## 2\n",
    "\n",
    "### 4\n",
    "\n",
    "### 5\n",
    "\n",
    "- list1\n",
    "- list2\n",
    "- list3\n",
    "  - sublist1\n",
    "  - sublist2\n",
    "  - sublist3\n",
    "\n",
    "#### 6\n",
    "\n",
    "##### 7"
   ]
  }
 ],
 "metadata": {
  "kernelspec": {
   "display_name": "Python 3",
   "language": "python",
   "name": "python3"
  },
  "language_info": {
   "codemirror_mode": {
    "name": "ipython",
    "version": 3
   },
   "file_extension": ".py",
   "mimetype": "text/x-python",
   "name": "python",
   "nbconvert_exporter": "python",
   "pygments_lexer": "ipython3",
   "version": "3.8.10"
  },
  "orig_nbformat": 4,
  "vscode": {
   "interpreter": {
    "hash": "916dbcbb3f70747c44a77c7bcd40155683ae19c65e1c03b4aa3499c5328201f1"
   }
  }
 },
 "nbformat": 4,
 "nbformat_minor": 2
}
